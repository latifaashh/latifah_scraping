{
 "cells": [
  {
   "cell_type": "code",
   "execution_count": 19,
   "id": "9a669f95",
   "metadata": {},
   "outputs": [],
   "source": [
    "import pandas as pd\n",
    "from selenium import webdriver\n",
    "from selenium.webdriver.chrome.service import Service\n",
    "from selenium.webdriver.common.by import By\n",
    "from selenium.webdriver.chrome.options import Options\n",
    "\n",
    "webdriver_service = Service('path_to_chromedriver')\n",
    "chrome_options = Options()\n",
    "chrome_options.add_argument(\"--headless\")  \n",
    "driver = webdriver.Chrome(service=webdriver_service, options=chrome_options)\n",
    "url = \"https://www.imdb.com/chart/top/\"\n",
    "driver.get(url)\n",
    "movies = driver.find_elements(By.CSS_SELECTOR, \".lister-list tr\")\n",
    "titles = []\n",
    "ratings = []\n",
    "for movie in movies:\n",
    "    title_element = movie.find_element(By.CSS_SELECTOR, \".titleColumn a\")\n",
    "    title = title_element.text.strip()\n",
    "    titles.append(title)\n",
    "    rating_element = movie.find_element(By.CSS_SELECTOR, \".imdbRating strong\")\n",
    "    rating = rating_element.text.strip()\n",
    "    ratings.append(rating)\n",
    "driver.quit()\n",
    "data = {'Title': titles, 'Rating': ratings}\n",
    "df = pd.DataFrame(data)\n",
    "df.to_excel('top_movies.xlsx', index=False)\n"
   ]
  }
 ],
 "metadata": {
  "kernelspec": {
   "display_name": "Python 3 (ipykernel)",
   "language": "python",
   "name": "python3"
  },
  "language_info": {
   "codemirror_mode": {
    "name": "ipython",
    "version": 3
   },
   "file_extension": ".py",
   "mimetype": "text/x-python",
   "name": "python",
   "nbconvert_exporter": "python",
   "pygments_lexer": "ipython3",
   "version": "3.9.12"
  }
 },
 "nbformat": 4,
 "nbformat_minor": 5
}
